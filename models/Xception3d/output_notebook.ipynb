{
 "cells": [
  {
   "cell_type": "markdown",
   "id": "5ac48c62",
   "metadata": {
    "papermill": {
     "duration": 0.004409,
     "end_time": "2025-05-04T19:40:13.574351",
     "exception": false,
     "start_time": "2025-05-04T19:40:13.569942",
     "status": "completed"
    },
    "tags": []
   },
   "source": [
    "# GLOBAL VARIABLE DEFINITION"
   ]
  },
  {
   "cell_type": "markdown",
   "id": "bf3f8739",
   "metadata": {
    "papermill": {
     "duration": 0.004173,
     "end_time": "2025-05-04T19:40:13.583207",
     "exception": false,
     "start_time": "2025-05-04T19:40:13.579034",
     "status": "completed"
    },
    "tags": []
   },
   "source": [
    "To run the script, create the model class inside \n",
    "\n",
    "```\n",
    "models/MODEL_NAME/model.py \n",
    "```\n",
    "\n",
    "The module will be dynamically imported."
   ]
  },
  {
   "cell_type": "code",
   "execution_count": 1,
   "id": "b4328ed0",
   "metadata": {
    "execution": {
     "iopub.execute_input": "2025-05-04T19:40:13.592687Z",
     "iopub.status.busy": "2025-05-04T19:40:13.592478Z",
     "iopub.status.idle": "2025-05-04T19:40:13.596438Z",
     "shell.execute_reply": "2025-05-04T19:40:13.596107Z"
    },
    "papermill": {
     "duration": 0.009552,
     "end_time": "2025-05-04T19:40:13.597133",
     "exception": false,
     "start_time": "2025-05-04T19:40:13.587581",
     "status": "completed"
    },
    "tags": []
   },
   "outputs": [],
   "source": [
    "# Set up the environment for a model training\n",
    "MODEL_NAME = \"Xception3d\"\n",
    "MODEL_PATH = \"models/\" + MODEL_NAME + \"/\"\n",
    "MODEL_PATH_METRICS = MODEL_PATH + \"metrics/\"\n",
    "\n",
    "# Set the data paths\n",
    "DATASET = \"FFPP\" # Dataset name, values can be [\"DFDC\",\"FFPP\"]\n",
    "\n",
    "# IF FFPP, set the following paths for reorganize the data\n",
    "ORIGIN_ROOT = \"data/ff++/original_sequences/actors/c23/videos\"\n",
    "MANIP_ROOT= \"data/ff++/manipulated_sequences/DeepFakeDetection/c23/videos\"\n",
    "OUTPUT_ROOT = \"data/ff++/\" # It will save the reorganized data here, train, val, test\n",
    "\n",
    "# IF DFDC, set the following paths\n",
    "METADATA_PATH = './data/metadata.json'\n",
    "\n",
    "DATA_TRAIN_PATH = './data/ff++/train'\n",
    "DATA_VAL_PATH = './data/ff++/val'\n",
    "DATA_TEST_PATH = './data/ff++/test' # Change this to the test data path if available\n",
    "\n",
    "# SET THE CROSS VALIDATION PARAMETERS\n",
    "CROSS_VAL = False # Set to True for cross-validation\n",
    "if CROSS_VAL:\n",
    "    NUM_SPLITS = 5 # Number of splits for cross-validation\n",
    "    \n",
    "# Set the training parameters\n",
    "BATCH_SIZE_TRAIN = 4\n",
    "BATCH_SIZE_VAL = 4\n",
    "BATCH_SIZE_TEST = 4\n",
    "\n",
    "NUM_EPOCHS = 10 # Number of epochs to train\n",
    "PATIENCE = 5  # Number of epochs to wait for improvement\n",
    "\n",
    "# Set the training parameters\n",
    "BEST_MODEL_PATH = MODEL_PATH+'best_model.pth'\n",
    "LAST_MODEL_PATH = MODEL_PATH+'last_model.pth'"
   ]
  },
  {
   "cell_type": "code",
   "execution_count": 2,
   "id": "6763269b",
   "metadata": {
    "execution": {
     "iopub.execute_input": "2025-05-04T19:40:13.606304Z",
     "iopub.status.busy": "2025-05-04T19:40:13.606082Z",
     "iopub.status.idle": "2025-05-04T19:40:13.608964Z",
     "shell.execute_reply": "2025-05-04T19:40:13.608612Z"
    },
    "papermill": {
     "duration": 0.00812,
     "end_time": "2025-05-04T19:40:13.609607",
     "exception": false,
     "start_time": "2025-05-04T19:40:13.601487",
     "status": "completed"
    },
    "tags": []
   },
   "outputs": [],
   "source": [
    "# Check if MODEL_PATH folder exists\n",
    "import os\n",
    "if not os.path.exists(MODEL_PATH):\n",
    "    raise FileNotFoundError(f\"Model directory '{MODEL_PATH}' does not exist. Please create it before running the script.\")\n",
    "\n",
    "if not os.path.exists(MODEL_PATH_METRICS):\n",
    "    os.makedirs(MODEL_PATH_METRICS)\n",
    "    print(f\"Created directory '{MODEL_PATH_METRICS}' for metrics.\")"
   ]
  },
  {
   "cell_type": "markdown",
   "id": "e5a579af",
   "metadata": {
    "papermill": {
     "duration": 0.004191,
     "end_time": "2025-05-04T19:40:13.617763",
     "exception": false,
     "start_time": "2025-05-04T19:40:13.613572",
     "status": "completed"
    },
    "tags": []
   },
   "source": [
    "# Imports"
   ]
  },
  {
   "cell_type": "code",
   "execution_count": 3,
   "id": "ba9d6b0b",
   "metadata": {
    "execution": {
     "iopub.execute_input": "2025-05-04T19:40:13.626597Z",
     "iopub.status.busy": "2025-05-04T19:40:13.626383Z",
     "iopub.status.idle": "2025-05-04T19:40:18.276542Z",
     "shell.execute_reply": "2025-05-04T19:40:18.276075Z"
    },
    "papermill": {
     "duration": 4.655694,
     "end_time": "2025-05-04T19:40:18.277489",
     "exception": false,
     "start_time": "2025-05-04T19:40:13.621795",
     "status": "completed"
    },
    "tags": []
   },
   "outputs": [],
   "source": [
    "# Standard libraries\n",
    "import os\n",
    "import json\n",
    "import importlib\n",
    "from datetime import datetime\n",
    "import shutil\n",
    "import glob\n",
    "\n",
    "# Numerical and data manipulation\n",
    "import numpy as np\n",
    "import pandas as pd\n",
    "\n",
    "# Plotting and visualization\n",
    "import matplotlib.pyplot as plt\n",
    "import seaborn as sns\n",
    "\n",
    "# Image processing\n",
    "import cv2\n",
    "\n",
    "# Progress bar\n",
    "from tqdm import tqdm\n",
    "\n",
    "# PyTorch core\n",
    "import torch\n",
    "import torch.nn as nn\n",
    "import torchvision\n",
    "\n",
    "# PyTorch utilities\n",
    "from torch.utils.data import Dataset, ConcatDataset\n",
    "from torch.utils.tensorboard import SummaryWriter\n",
    "\n",
    "# Machine learning and evaluation\n",
    "from sklearn.model_selection import KFold, train_test_split\n",
    "from sklearn.metrics import (\n",
    "    confusion_matrix,\n",
    "    classification_report,\n",
    "    accuracy_score,\n",
    "    precision_score,\n",
    "    recall_score,\n",
    "    f1_score,\n",
    ")\n"
   ]
  },
  {
   "cell_type": "code",
   "execution_count": 4,
   "id": "4d221a85",
   "metadata": {
    "execution": {
     "iopub.execute_input": "2025-05-04T19:40:18.287797Z",
     "iopub.status.busy": "2025-05-04T19:40:18.287390Z",
     "iopub.status.idle": "2025-05-04T19:40:18.291978Z",
     "shell.execute_reply": "2025-05-04T19:40:18.291635Z"
    },
    "papermill": {
     "duration": 0.010337,
     "end_time": "2025-05-04T19:40:18.292697",
     "exception": false,
     "start_time": "2025-05-04T19:40:18.282360",
     "status": "completed"
    },
    "tags": []
   },
   "outputs": [],
   "source": [
    "# Build the module path dynamically\n",
    "module_path = f\"models.{MODEL_NAME}.model\"\n",
    "\n",
    "# Import the module\n",
    "model_module = importlib.import_module(module_path)"
   ]
  },
  {
   "cell_type": "markdown",
   "id": "2784672a",
   "metadata": {
    "papermill": {
     "duration": 0.00431,
     "end_time": "2025-05-04T19:40:18.301309",
     "exception": false,
     "start_time": "2025-05-04T19:40:18.296999",
     "status": "completed"
    },
    "tags": []
   },
   "source": [
    "# Data"
   ]
  },
  {
   "cell_type": "markdown",
   "id": "c8b1c5fa",
   "metadata": {
    "papermill": {
     "duration": 0.004172,
     "end_time": "2025-05-04T19:40:18.309617",
     "exception": false,
     "start_time": "2025-05-04T19:40:18.305445",
     "status": "completed"
    },
    "tags": []
   },
   "source": [
    "## Labels"
   ]
  },
  {
   "cell_type": "code",
   "execution_count": 5,
   "id": "660d86e7",
   "metadata": {
    "execution": {
     "iopub.execute_input": "2025-05-04T19:40:18.318560Z",
     "iopub.status.busy": "2025-05-04T19:40:18.318216Z",
     "iopub.status.idle": "2025-05-04T19:40:18.322057Z",
     "shell.execute_reply": "2025-05-04T19:40:18.321713Z"
    },
    "papermill": {
     "duration": 0.009116,
     "end_time": "2025-05-04T19:40:18.322824",
     "exception": false,
     "start_time": "2025-05-04T19:40:18.313708",
     "status": "completed"
    },
    "tags": []
   },
   "outputs": [],
   "source": [
    "# Open metadata.json file\n",
    "with open(METADATA_PATH) as f:\n",
    "    metadata = json.load(f)\n"
   ]
  },
  {
   "cell_type": "code",
   "execution_count": 6,
   "id": "c21b633b",
   "metadata": {
    "execution": {
     "iopub.execute_input": "2025-05-04T19:40:18.332439Z",
     "iopub.status.busy": "2025-05-04T19:40:18.332192Z",
     "iopub.status.idle": "2025-05-04T19:40:18.358013Z",
     "shell.execute_reply": "2025-05-04T19:40:18.357565Z"
    },
    "papermill": {
     "duration": 0.031447,
     "end_time": "2025-05-04T19:40:18.358687",
     "exception": false,
     "start_time": "2025-05-04T19:40:18.327240",
     "status": "completed"
    },
    "tags": []
   },
   "outputs": [],
   "source": [
    "# Convert the metadata to a pandas DataFrame\n",
    "metadata_df = pd.DataFrame(metadata)\n",
    "\n",
    "# Transpose the DataFrame\n",
    "metadata_df = metadata_df.transpose()\n",
    "\n",
    "# Reset the index\n",
    "metadata_df.reset_index(inplace=True)\n",
    "\n",
    "# Rename the column index to filename\n",
    "metadata_df.rename(columns={'index': 'filename'}, inplace=True)\n",
    "\n",
    "# Convert labels to integers.\n",
    "# REAL = 0\n",
    "# FAKE = 1\n",
    "metadata_df['label'] = metadata_df['label'].map({'REAL': 0, 'FAKE': 1})"
   ]
  },
  {
   "cell_type": "code",
   "execution_count": 7,
   "id": "df2956bb",
   "metadata": {
    "execution": {
     "iopub.execute_input": "2025-05-04T19:40:18.368461Z",
     "iopub.status.busy": "2025-05-04T19:40:18.368218Z",
     "iopub.status.idle": "2025-05-04T19:40:18.379178Z",
     "shell.execute_reply": "2025-05-04T19:40:18.378706Z"
    },
    "papermill": {
     "duration": 0.016617,
     "end_time": "2025-05-04T19:40:18.379984",
     "exception": false,
     "start_time": "2025-05-04T19:40:18.363367",
     "status": "completed"
    },
    "tags": []
   },
   "outputs": [
    {
     "data": {
      "text/html": [
       "<div>\n",
       "<style scoped>\n",
       "    .dataframe tbody tr th:only-of-type {\n",
       "        vertical-align: middle;\n",
       "    }\n",
       "\n",
       "    .dataframe tbody tr th {\n",
       "        vertical-align: top;\n",
       "    }\n",
       "\n",
       "    .dataframe thead th {\n",
       "        text-align: right;\n",
       "    }\n",
       "</style>\n",
       "<table border=\"1\" class=\"dataframe\">\n",
       "  <thead>\n",
       "    <tr style=\"text-align: right;\">\n",
       "      <th></th>\n",
       "      <th>filename</th>\n",
       "      <th>label</th>\n",
       "      <th>split</th>\n",
       "      <th>original</th>\n",
       "    </tr>\n",
       "  </thead>\n",
       "  <tbody>\n",
       "    <tr>\n",
       "      <th>0</th>\n",
       "      <td>owxbbpjpch.mp4</td>\n",
       "      <td>1</td>\n",
       "      <td>train</td>\n",
       "      <td>wynotylpnm.mp4</td>\n",
       "    </tr>\n",
       "    <tr>\n",
       "      <th>1</th>\n",
       "      <td>vpmyeepbep.mp4</td>\n",
       "      <td>0</td>\n",
       "      <td>train</td>\n",
       "      <td>NaN</td>\n",
       "    </tr>\n",
       "    <tr>\n",
       "      <th>2</th>\n",
       "      <td>fzvpbrzssi.mp4</td>\n",
       "      <td>0</td>\n",
       "      <td>train</td>\n",
       "      <td>NaN</td>\n",
       "    </tr>\n",
       "    <tr>\n",
       "      <th>3</th>\n",
       "      <td>htorvhbcae.mp4</td>\n",
       "      <td>1</td>\n",
       "      <td>train</td>\n",
       "      <td>wclvkepakb.mp4</td>\n",
       "    </tr>\n",
       "    <tr>\n",
       "      <th>4</th>\n",
       "      <td>fckxaqjbxk.mp4</td>\n",
       "      <td>1</td>\n",
       "      <td>train</td>\n",
       "      <td>vpmyeepbep.mp4</td>\n",
       "    </tr>\n",
       "    <tr>\n",
       "      <th>...</th>\n",
       "      <td>...</td>\n",
       "      <td>...</td>\n",
       "      <td>...</td>\n",
       "      <td>...</td>\n",
       "    </tr>\n",
       "    <tr>\n",
       "      <th>1329</th>\n",
       "      <td>hectzcuzdv.mp4</td>\n",
       "      <td>1</td>\n",
       "      <td>train</td>\n",
       "      <td>vtunvalyji.mp4</td>\n",
       "    </tr>\n",
       "    <tr>\n",
       "      <th>1330</th>\n",
       "      <td>yxkbjxmtzr.mp4</td>\n",
       "      <td>1</td>\n",
       "      <td>train</td>\n",
       "      <td>sttnfyptum.mp4</td>\n",
       "    </tr>\n",
       "    <tr>\n",
       "      <th>1331</th>\n",
       "      <td>wkdnagybtb.mp4</td>\n",
       "      <td>1</td>\n",
       "      <td>train</td>\n",
       "      <td>jytrvwlewz.mp4</td>\n",
       "    </tr>\n",
       "    <tr>\n",
       "      <th>1332</th>\n",
       "      <td>fonrexmbzz.mp4</td>\n",
       "      <td>1</td>\n",
       "      <td>train</td>\n",
       "      <td>fufcmupzen.mp4</td>\n",
       "    </tr>\n",
       "    <tr>\n",
       "      <th>1333</th>\n",
       "      <td>etychryvty.mp4</td>\n",
       "      <td>1</td>\n",
       "      <td>train</td>\n",
       "      <td>uqtqhiqymz.mp4</td>\n",
       "    </tr>\n",
       "  </tbody>\n",
       "</table>\n",
       "<p>1334 rows × 4 columns</p>\n",
       "</div>"
      ],
      "text/plain": [
       "            filename  label  split        original\n",
       "0     owxbbpjpch.mp4      1  train  wynotylpnm.mp4\n",
       "1     vpmyeepbep.mp4      0  train             NaN\n",
       "2     fzvpbrzssi.mp4      0  train             NaN\n",
       "3     htorvhbcae.mp4      1  train  wclvkepakb.mp4\n",
       "4     fckxaqjbxk.mp4      1  train  vpmyeepbep.mp4\n",
       "...              ...    ...    ...             ...\n",
       "1329  hectzcuzdv.mp4      1  train  vtunvalyji.mp4\n",
       "1330  yxkbjxmtzr.mp4      1  train  sttnfyptum.mp4\n",
       "1331  wkdnagybtb.mp4      1  train  jytrvwlewz.mp4\n",
       "1332  fonrexmbzz.mp4      1  train  fufcmupzen.mp4\n",
       "1333  etychryvty.mp4      1  train  uqtqhiqymz.mp4\n",
       "\n",
       "[1334 rows x 4 columns]"
      ]
     },
     "execution_count": 7,
     "metadata": {},
     "output_type": "execute_result"
    }
   ],
   "source": [
    "metadata_df"
   ]
  },
  {
   "cell_type": "markdown",
   "id": "37b2d2b5",
   "metadata": {
    "papermill": {
     "duration": 0.004298,
     "end_time": "2025-05-04T19:40:18.388908",
     "exception": false,
     "start_time": "2025-05-04T19:40:18.384610",
     "status": "completed"
    },
    "tags": []
   },
   "source": [
    "## Dataset creation"
   ]
  },
  {
   "cell_type": "code",
   "execution_count": 8,
   "id": "12c4d94d",
   "metadata": {
    "execution": {
     "iopub.execute_input": "2025-05-04T19:40:18.398852Z",
     "iopub.status.busy": "2025-05-04T19:40:18.398351Z",
     "iopub.status.idle": "2025-05-04T19:40:18.401829Z",
     "shell.execute_reply": "2025-05-04T19:40:18.401488Z"
    },
    "papermill": {
     "duration": 0.009169,
     "end_time": "2025-05-04T19:40:18.402509",
     "exception": false,
     "start_time": "2025-05-04T19:40:18.393340",
     "status": "completed"
    },
    "tags": []
   },
   "outputs": [],
   "source": [
    "def extract_frames(video_path, num_frames=16):\n",
    "    \"\"\"Extract `num_frames` evenly spaced frames from a video.\"\"\"\n",
    "    cap = cv2.VideoCapture(video_path)\n",
    "    length = int(cap.get(cv2.CAP_PROP_FRAME_COUNT))\n",
    "    frame_idxs = list(np.linspace(0, length-1, num_frames).astype(int))\n",
    "    frames = []\n",
    "    for idx in frame_idxs:\n",
    "        cap.set(cv2.CAP_PROP_POS_FRAMES, idx)\n",
    "        ret, frame = cap.read()\n",
    "        if not ret:\n",
    "            break\n",
    "        frame = cv2.cvtColor(frame, cv2.COLOR_BGR2RGB)\n",
    "        frames.append(frame)\n",
    "    cap.release()\n",
    "    return frames"
   ]
  },
  {
   "cell_type": "code",
   "execution_count": 9,
   "id": "d7ac00d9",
   "metadata": {
    "execution": {
     "iopub.execute_input": "2025-05-04T19:40:18.412191Z",
     "iopub.status.busy": "2025-05-04T19:40:18.411785Z",
     "iopub.status.idle": "2025-05-04T19:40:18.415892Z",
     "shell.execute_reply": "2025-05-04T19:40:18.415525Z"
    },
    "papermill": {
     "duration": 0.009686,
     "end_time": "2025-05-04T19:40:18.416501",
     "exception": false,
     "start_time": "2025-05-04T19:40:18.406815",
     "status": "completed"
    },
    "tags": []
   },
   "outputs": [],
   "source": [
    "class DeepfakeDataset(Dataset):\n",
    "    def __init__(self, video_dir, labels_df, transform=None, num_frames=16):\n",
    "        self.video_dir = video_dir\n",
    "        \n",
    "        # Remove all the labels that are not in the video_dir\n",
    "        labels_df = labels_df[labels_df['filename'].isin(os.listdir(video_dir))]\n",
    "        \n",
    "        self.labels = labels_df\n",
    "        self.transform = transform\n",
    "        self.num_frames = num_frames\n",
    "\n",
    "    def __len__(self):\n",
    "        return len(self.labels)\n",
    "        \n",
    "    def __getitem__(self, idx):\n",
    "        video_file = self.labels.iloc[idx]['filename']\n",
    "        label = self.labels.iloc[idx]['label']  # 0: real, 1: fake\n",
    "        video_path = os.path.join(self.video_dir, video_file)\n",
    "        frames = extract_frames(video_path, num_frames=self.num_frames)\n",
    "        if self.transform:\n",
    "            frames = [self.transform(frame) for frame in frames]\n",
    "        # stack to (num_frames, C, H, W)\n",
    "        frames = torch.stack(frames)\n",
    "        return frames, torch.tensor(label, dtype=torch.long)\n",
    "    \n",
    "    def get_filenames(self):\n",
    "        return self.labels['filename'].tolist()\n"
   ]
  },
  {
   "cell_type": "code",
   "execution_count": 10,
   "id": "3cdeb547",
   "metadata": {
    "execution": {
     "iopub.execute_input": "2025-05-04T19:40:18.427065Z",
     "iopub.status.busy": "2025-05-04T19:40:18.426857Z",
     "iopub.status.idle": "2025-05-04T19:40:18.434313Z",
     "shell.execute_reply": "2025-05-04T19:40:18.433917Z"
    },
    "papermill": {
     "duration": 0.013936,
     "end_time": "2025-05-04T19:40:18.434984",
     "exception": false,
     "start_time": "2025-05-04T19:40:18.421048",
     "status": "completed"
    },
    "tags": []
   },
   "outputs": [],
   "source": [
    "def prepare_ffpp_splits(\n",
    "    orig_root: str,\n",
    "    manip_root: str,\n",
    "    output_root: str,\n",
    "    val_size: float = 0.15,\n",
    "    test_size: float = 0.15,\n",
    "    random_state: int = 42,\n",
    "    use_symlinks: bool = False,\n",
    "):\n",
    "    \"\"\"\n",
    "    1. Gather all videos from orig_root (label=0) and manip_root (label=1)\n",
    "    2. Split into train/val/test with stratification on label\n",
    "    3. Copy or symlink them into output_root/{train,val,test}/{real,fake}/\n",
    "    \"\"\"\n",
    "    # 1) gather\n",
    "    orig_paths = glob.glob(os.path.join(orig_root, \"*.mp4\"))\n",
    "    manip_paths = glob.glob(os.path.join(manip_root, \"*.mp4\"))\n",
    "    records = []\n",
    "    for p in orig_paths:\n",
    "        records.append({\"filename\": os.path.basename(p), \"label\": 0, \"path\": p})\n",
    "    for p in manip_paths:\n",
    "        records.append({\"filename\": os.path.basename(p), \"label\": 1, \"path\": p})\n",
    "    df = pd.DataFrame.from_records(records)\n",
    "\n",
    "    # 2) split\n",
    "    train_df, temp_df = train_test_split(\n",
    "        df, test_size=(val_size + test_size), \n",
    "        stratify=df[\"label\"], random_state=random_state\n",
    "    )\n",
    "    # split temp into val/test proportional\n",
    "    rel_val = val_size / (val_size + test_size)\n",
    "    val_df, test_df = train_test_split(\n",
    "        temp_df, test_size=(1 - rel_val),\n",
    "        stratify=temp_df[\"label\"], random_state=random_state\n",
    "    )\n",
    "\n",
    "    splits = {\"train\": train_df, \"val\": val_df, \"test\": test_df}\n",
    "\n",
    "    # 3) copy or symlink\n",
    "    for split_name, split_df in splits.items():\n",
    "        for _, row in split_df.iterrows():\n",
    "            lbl_folder = \"real\" if row[\"label\"] == 0 else \"fake\"\n",
    "            dest_dir = os.path.join(output_root, split_name, lbl_folder)\n",
    "            os.makedirs(dest_dir, exist_ok=True)\n",
    "            dest_path = os.path.join(dest_dir, row[\"filename\"])\n",
    "            if use_symlinks:\n",
    "                if os.path.exists(dest_path):\n",
    "                    os.remove(dest_path)\n",
    "                os.symlink(os.path.abspath(row[\"path\"]), dest_path)\n",
    "            else:\n",
    "                # copy only if not already there\n",
    "                if not os.path.exists(dest_path):\n",
    "                    shutil.copy2(row[\"path\"], dest_path)\n",
    "\n",
    "    print(\"Done! Splits created under\", output_root)\n",
    "\n",
    "class FFPPVideoDataset(Dataset):\n",
    "    \"\"\"\n",
    "    Standard torch Dataset for one split of FF++:\n",
    "       root/\n",
    "         train/ or val/ or test/\n",
    "           real/  *.mp4\n",
    "           fake/  *.mp4\n",
    "    \"\"\"\n",
    "    def __init__(self, split_root, transform=None, num_frames=16):\n",
    "        \"\"\"\n",
    "        split_root: e.g. \"data/train\"\n",
    "        \"\"\"\n",
    "        self.transform = transform\n",
    "        self.num_frames = num_frames\n",
    "\n",
    "        # find all videos and labels\n",
    "        self.samples = []\n",
    "        for label, sub in enumerate([\"real\", \"fake\"]):\n",
    "            folder = os.path.join(split_root, sub)\n",
    "            for vid in os.listdir(folder):\n",
    "                if vid.lower().endswith(\".mp4\"):\n",
    "                    self.samples.append({\n",
    "                        \"path\": os.path.join(folder, vid),\n",
    "                        \"label\": label\n",
    "                    })\n",
    "\n",
    "    def __len__(self):\n",
    "        return len(self.samples)\n",
    "\n",
    "    def __getitem__(self, idx):\n",
    "        sample = self.samples[idx]\n",
    "        frames = extract_frames(sample[\"path\"], num_frames=self.num_frames)\n",
    "        if self.transform:\n",
    "            frames = [self.transform(f) for f in frames]\n",
    "        frames = torch.stack(frames)            # (num_frames, C, H, W)\n",
    "        label = torch.tensor(sample[\"label\"], dtype=torch.long)\n",
    "        return frames, label\n",
    "\n",
    "    def get_filenames(self):\n",
    "        return [os.path.basename(s[\"path\"]) for s in self.samples]\n"
   ]
  },
  {
   "cell_type": "code",
   "execution_count": 11,
   "id": "a7738482",
   "metadata": {
    "execution": {
     "iopub.execute_input": "2025-05-04T19:40:18.445398Z",
     "iopub.status.busy": "2025-05-04T19:40:18.445087Z",
     "iopub.status.idle": "2025-05-04T19:40:22.381590Z",
     "shell.execute_reply": "2025-05-04T19:40:22.381216Z"
    },
    "papermill": {
     "duration": 3.942602,
     "end_time": "2025-05-04T19:40:22.382306",
     "exception": false,
     "start_time": "2025-05-04T19:40:18.439704",
     "status": "completed"
    },
    "tags": []
   },
   "outputs": [
    {
     "name": "stdout",
     "output_type": "stream",
     "text": [
      "Done! Splits created under ./data/ff++\n",
      "Training set has 2401 instances\n",
      "Validation set has 515 instances\n"
     ]
    }
   ],
   "source": [
    "data_transforms = model_module.get_data_transform()\n",
    "\n",
    "if DATASET == \"DFDC\":\n",
    "    # Create datasets for training & validation, download if necessary\n",
    "    training_set = DeepfakeDataset(DATA_TRAIN_PATH, metadata_df, transform=data_transforms)\n",
    "    validation_set = DeepfakeDataset(DATA_VAL_PATH, metadata_df, transform=data_transforms)\n",
    "    test_set = DeepfakeDataset(DATA_TEST_PATH, metadata_df, transform=data_transforms)\n",
    "elif DATASET == \"FFPP\":\n",
    "    # 1. Prepare splits (run once)\n",
    "    prepare_ffpp_splits(\n",
    "        orig_root=ORIGIN_ROOT,\n",
    "        manip_root=MANIP_ROOT,\n",
    "        output_root=\"/\".join(DATA_TRAIN_PATH.split('/')[:-1]),\n",
    "        val_size=0.15,\n",
    "        test_size=0.15,\n",
    "        use_symlinks=True  # or True, if you prefer\n",
    "    )\n",
    "\n",
    "    # 2. Instantiate datasets\n",
    "    training_set = FFPPVideoDataset(DATA_TRAIN_PATH, transform=data_transforms)\n",
    "    validation_set   = FFPPVideoDataset(DATA_VAL_PATH,   transform=data_transforms)\n",
    "    test_set  = FFPPVideoDataset(DATA_TEST_PATH,  transform=data_transforms)\n",
    "\n",
    "\n",
    "# Create data loaders for our datasets; shuffle for training, not for validation\n",
    "# If CROSS_VAL is set to True, the loaders will be created in the cross-validation loop\n",
    "if not CROSS_VAL:\n",
    "    training_loader = torch.utils.data.DataLoader(training_set, batch_size=BATCH_SIZE_TRAIN, shuffle=True)\n",
    "    validation_loader = torch.utils.data.DataLoader(validation_set, batch_size=BATCH_SIZE_VAL, shuffle=False)\n",
    "\n",
    "# Create data loader for test set\n",
    "test_loader = torch.utils.data.DataLoader(test_set, batch_size=BATCH_SIZE_TEST, shuffle=False)\n",
    "\n",
    "# Class labels\n",
    "classes = ('FAKE', 'REAL')\n",
    "\n",
    "# Report split sizes\n",
    "print('Training set has {} instances'.format(len(training_set)))\n",
    "print('Validation set has {} instances'.format(len(validation_set)))"
   ]
  },
  {
   "cell_type": "markdown",
   "id": "a22bad1c",
   "metadata": {
    "papermill": {
     "duration": 0.006051,
     "end_time": "2025-05-04T19:40:22.394156",
     "exception": false,
     "start_time": "2025-05-04T19:40:22.388105",
     "status": "completed"
    },
    "tags": []
   },
   "source": [
    "# Visualization"
   ]
  },
  {
   "cell_type": "code",
   "execution_count": 12,
   "id": "14248b96",
   "metadata": {
    "execution": {
     "iopub.execute_input": "2025-05-04T19:40:22.403864Z",
     "iopub.status.busy": "2025-05-04T19:40:22.403642Z",
     "iopub.status.idle": "2025-05-04T19:40:22.406571Z",
     "shell.execute_reply": "2025-05-04T19:40:22.406209Z"
    },
    "papermill": {
     "duration": 0.008537,
     "end_time": "2025-05-04T19:40:22.407251",
     "exception": false,
     "start_time": "2025-05-04T19:40:22.398714",
     "status": "completed"
    },
    "tags": []
   },
   "outputs": [],
   "source": [
    "# Helper function for inline image display\n",
    "def matplotlib_imshow(img, one_channel=False):\n",
    "    if one_channel:\n",
    "        img = img.mean(dim=0)\n",
    "    # img = img / 2 + 0.5     # unnormalize\n",
    "    npimg = img.numpy()\n",
    "    if one_channel:\n",
    "        plt.imshow(npimg, cmap=\"Greys\")\n",
    "    else:\n",
    "        plt.imshow(np.transpose(npimg, (1, 2, 0)))\n"
   ]
  },
  {
   "cell_type": "code",
   "execution_count": 13,
   "id": "c42999b7",
   "metadata": {
    "execution": {
     "iopub.execute_input": "2025-05-04T19:40:22.417220Z",
     "iopub.status.busy": "2025-05-04T19:40:22.416790Z",
     "iopub.status.idle": "2025-05-04T19:40:47.200685Z",
     "shell.execute_reply": "2025-05-04T19:40:47.200066Z"
    },
    "papermill": {
     "duration": 24.789926,
     "end_time": "2025-05-04T19:40:47.201696",
     "exception": false,
     "start_time": "2025-05-04T19:40:22.411770",
     "status": "completed"
    },
    "tags": []
   },
   "outputs": [],
   "source": [
    "dataiter = iter(training_loader)\n",
    "images, labels = next(dataiter)"
   ]
  },
  {
   "cell_type": "code",
   "execution_count": 14,
   "id": "f9cdf658",
   "metadata": {
    "execution": {
     "iopub.execute_input": "2025-05-04T19:40:47.212746Z",
     "iopub.status.busy": "2025-05-04T19:40:47.212468Z",
     "iopub.status.idle": "2025-05-04T19:40:47.216172Z",
     "shell.execute_reply": "2025-05-04T19:40:47.215804Z"
    },
    "papermill": {
     "duration": 0.009745,
     "end_time": "2025-05-04T19:40:47.216819",
     "exception": false,
     "start_time": "2025-05-04T19:40:47.207074",
     "status": "completed"
    },
    "tags": []
   },
   "outputs": [
    {
     "data": {
      "text/plain": [
       "(torch.Size([4, 16, 3, 224, 224]), torch.Size([4]))"
      ]
     },
     "execution_count": 14,
     "metadata": {},
     "output_type": "execute_result"
    }
   ],
   "source": [
    "images.shape, labels.shape"
   ]
  },
  {
   "cell_type": "code",
   "execution_count": 15,
   "id": "7236140c",
   "metadata": {
    "execution": {
     "iopub.execute_input": "2025-05-04T19:40:47.226902Z",
     "iopub.status.busy": "2025-05-04T19:40:47.226662Z",
     "iopub.status.idle": "2025-05-04T19:40:47.373271Z",
     "shell.execute_reply": "2025-05-04T19:40:47.372880Z"
    },
    "papermill": {
     "duration": 0.152533,
     "end_time": "2025-05-04T19:40:47.374039",
     "exception": false,
     "start_time": "2025-05-04T19:40:47.221506",
     "status": "completed"
    },
    "tags": []
   },
   "outputs": [
    {
     "name": "stdout",
     "output_type": "stream",
     "text": [
      "REAL  REAL  REAL  REAL\n"
     ]
    },
    {
     "data": {
      "image/png": "[encoded data removed]",
      "text/plain": [
       "<Figure size 640x480 with 1 Axes>"
      ]
     },
     "metadata": {},
     "output_type": "display_data"
    }
   ],
   "source": [
    "# Create a grid from the images and show them\n",
    "img_grid = torchvision.utils.make_grid([images[0][0], images[1][0], images[2][0], images[3][0]], nrow=4)\n",
    "matplotlib_imshow(img_grid)\n",
    "print('  '.join(classes[labels[j]] for j in range(4)))"
   ]
  },
  {
   "cell_type": "markdown",
   "id": "649f1ef5",
   "metadata": {
    "papermill": {
     "duration": 0.005876,
     "end_time": "2025-05-04T19:40:47.386211",
     "exception": false,
     "start_time": "2025-05-04T19:40:47.380335",
     "status": "completed"
    },
    "tags": []
   },
   "source": [
    "# Model"
   ]
  },
  {
   "cell_type": "code",
   "execution_count": 16,
   "id": "2f0706b0",
   "metadata": {
    "execution": {
     "iopub.execute_input": "2025-05-04T19:40:47.398534Z",
     "iopub.status.busy": "2025-05-04T19:40:47.398212Z",
     "iopub.status.idle": "2025-05-04T19:40:48.715964Z",
     "shell.execute_reply": "2025-05-04T19:40:48.715551Z"
    },
    "papermill": {
     "duration": 1.32501,
     "end_time": "2025-05-04T19:40:48.716880",
     "exception": false,
     "start_time": "2025-05-04T19:40:47.391870",
     "status": "completed"
    },
    "tags": []
   },
   "outputs": [
    {
     "name": "stdout",
     "output_type": "stream",
     "text": [
      "Using device: cuda\n",
      "Using 2 GPUs!\n"
     ]
    }
   ],
   "source": [
    "# Now can access things inside model_module\n",
    "model = model_module.Model()\n",
    "\n",
    "device = torch.device('cuda' if torch.cuda.is_available() else 'mps' if torch.backends.mps.is_available() else 'cpu')\n",
    "print (\"Using device:\", device)\n",
    "\n",
    "# Multi-GPU support\n",
    "if torch.cuda.device_count() > 1:\n",
    "    print(\"Using\", torch.cuda.device_count(), \"GPUs!\")\n",
    "    model = nn.DataParallel(model)\n",
    "    \n",
    "model = model.to(device)"
   ]
  },
  {
   "cell_type": "markdown",
   "id": "6aeef8ca",
   "metadata": {
    "papermill": {
     "duration": 0.005798,
     "end_time": "2025-05-04T19:40:48.728982",
     "exception": false,
     "start_time": "2025-05-04T19:40:48.723184",
     "status": "completed"
    },
    "tags": []
   },
   "source": [
    "# Loss function"
   ]
  },
  {
   "cell_type": "code",
   "execution_count": 17,
   "id": "9419b5f3",
   "metadata": {
    "execution": {
     "iopub.execute_input": "2025-05-04T19:40:48.741321Z",
     "iopub.status.busy": "2025-05-04T19:40:48.741099Z",
     "iopub.status.idle": "2025-05-04T19:40:48.743683Z",
     "shell.execute_reply": "2025-05-04T19:40:48.743293Z"
    },
    "papermill": {
     "duration": 0.00958,
     "end_time": "2025-05-04T19:40:48.744334",
     "exception": false,
     "start_time": "2025-05-04T19:40:48.734754",
     "status": "completed"
    },
    "tags": []
   },
   "outputs": [],
   "source": [
    "loss_fn = model_module.get_loss_fn()"
   ]
  },
  {
   "cell_type": "markdown",
   "id": "eda732cc",
   "metadata": {
    "papermill": {
     "duration": 0.005592,
     "end_time": "2025-05-04T19:40:48.755765",
     "exception": false,
     "start_time": "2025-05-04T19:40:48.750173",
     "status": "completed"
    },
    "tags": []
   },
   "source": [
    "# Optimizer"
   ]
  },
  {
   "cell_type": "code",
   "execution_count": 18,
   "id": "4ece8aa3",
   "metadata": {
    "execution": {
     "iopub.execute_input": "2025-05-04T19:40:48.768392Z",
     "iopub.status.busy": "2025-05-04T19:40:48.767869Z",
     "iopub.status.idle": "2025-05-04T19:40:48.771471Z",
     "shell.execute_reply": "2025-05-04T19:40:48.771134Z"
    },
    "papermill": {
     "duration": 0.020832,
     "end_time": "2025-05-04T19:40:48.782177",
     "exception": false,
     "start_time": "2025-05-04T19:40:48.761345",
     "status": "completed"
    },
    "tags": []
   },
   "outputs": [],
   "source": [
    "# Optimizers specified in the torch.optim package\n",
    "optimizer = model_module.get_optimizer(model.parameters())\n",
    "scheduler = None\n",
    "\n",
    "if isinstance(optimizer, tuple):\n",
    "    optimizer, scheduler = optimizer\n",
    "    "
   ]
  },
  {
   "cell_type": "markdown",
   "id": "03b4e3d1",
   "metadata": {
    "papermill": {
     "duration": 0.005825,
     "end_time": "2025-05-04T19:40:48.794481",
     "exception": false,
     "start_time": "2025-05-04T19:40:48.788656",
     "status": "completed"
    },
    "tags": []
   },
   "source": [
    "# Save all the params"
   ]
  },
  {
   "cell_type": "code",
   "execution_count": 19,
   "id": "e02a03dc",
   "metadata": {
    "execution": {
     "iopub.execute_input": "2025-05-04T19:40:48.806964Z",
     "iopub.status.busy": "2025-05-04T19:40:48.806713Z",
     "iopub.status.idle": "2025-05-04T19:40:48.814889Z",
     "shell.execute_reply": "2025-05-04T19:40:48.814540Z"
    },
    "papermill": {
     "duration": 0.015241,
     "end_time": "2025-05-04T19:40:48.815639",
     "exception": false,
     "start_time": "2025-05-04T19:40:48.800398",
     "status": "completed"
    },
    "tags": []
   },
   "outputs": [
    {
     "name": "stdout",
     "output_type": "stream",
     "text": [
      "Model info saved successfully ✅\n"
     ]
    }
   ],
   "source": [
    "def serialize_value(value):\n",
    "    \"\"\"Helper to safely serialize values for JSON.\"\"\"\n",
    "    if isinstance(value, torch.Tensor):\n",
    "        return value.tolist()\n",
    "    elif isinstance(value, dict):\n",
    "        return {k: serialize_value(v) for k, v in value.items()}\n",
    "    elif isinstance(value, set):\n",
    "        return list(value)\n",
    "    else:\n",
    "        return str(value)\n",
    "\n",
    "def extract_params(obj):\n",
    "    \"\"\"Extracts public parameters from an object's __dict__, serializing them.\"\"\"\n",
    "    params = {}\n",
    "    for key, value in getattr(obj, '__dict__', {}).items():\n",
    "        if key.startswith('_'):\n",
    "            continue  # skip private attributes\n",
    "        params[key] = serialize_value(value)\n",
    "    return params\n",
    "\n",
    "def get_transform_info(transform):\n",
    "    \"\"\"Extracts transform name and parameters.\"\"\"\n",
    "    return {\n",
    "        'name': transform.__class__.__name__,\n",
    "        'params': extract_params(transform)\n",
    "    }\n",
    "\n",
    "# --- LOSS CONFIG ---\n",
    "loss_config = extract_params(loss_fn)\n",
    "\n",
    "# --- OPTIMIZER CONFIG ---\n",
    "optimizer_params = serialize_value(optimizer.defaults)\n",
    "\n",
    "# --- SCHEDULER CONFIG ---\n",
    "if scheduler is not None:\n",
    "    scheduler_params = serialize_value(scheduler.__dict__)\n",
    "    scheduler_config = {\n",
    "        'scheduler': scheduler.__class__.__name__,\n",
    "        'params': scheduler_params\n",
    "    }\n",
    "else:\n",
    "    scheduler_config = None\n",
    "\n",
    "# --- DATA TRANSFORMS CONFIG ---\n",
    "if hasattr(data_transforms, 'transforms'):\n",
    "    transform_list = [get_transform_info(t) for t in data_transforms.transforms]\n",
    "else:\n",
    "    transform_list = [get_transform_info(data_transforms)]\n",
    "\n",
    "# --- FINAL MODEL INFO ---\n",
    "model_info = {\n",
    "    'model': MODEL_NAME,\n",
    "    'optimizer': optimizer.__class__.__name__,\n",
    "    'optimizer_params': optimizer_params,\n",
    "    'scheduler': scheduler_config,\n",
    "    'scheduler_params': scheduler_params if scheduler is not None else None,\n",
    "    'loss_fn': loss_fn.__class__.__name__,\n",
    "    'loss_fn_params': loss_config,\n",
    "    'data_transforms': transform_list,\n",
    "    'dataset': DATASET,\n",
    "    'training_set_size': len(training_set),\n",
    "    'validation_set_size': len(validation_set),\n",
    "    'test_set_size': len(test_set),\n",
    "    'batch_size_train': BATCH_SIZE_TRAIN,\n",
    "    'batch_size_val': BATCH_SIZE_VAL,\n",
    "    'batch_size_test': BATCH_SIZE_TEST,\n",
    "    'num_epochs': NUM_EPOCHS,\n",
    "    'patience': PATIENCE,\n",
    "    'best_model_path': BEST_MODEL_PATH,\n",
    "    'last_model_path': LAST_MODEL_PATH,\n",
    "    'cross_val': CROSS_VAL,\n",
    "    'num_splits': NUM_SPLITS if CROSS_VAL else None,\n",
    "    'date': datetime.now().strftime(\"%Y-%m-%d %H:%M:%S\")\n",
    "}\n",
    "\n",
    "# --- SAVE JSON ---\n",
    "os.makedirs(MODEL_PATH, exist_ok=True)\n",
    "with open(os.path.join(MODEL_PATH, 'model_info.json'), 'w') as f:\n",
    "    json.dump(model_info, f, indent=4)\n",
    "\n",
    "print(\"Model info saved successfully ✅\")\n"
   ]
  },
  {
   "cell_type": "markdown",
   "id": "a0cc3817",
   "metadata": {
    "papermill": {
     "duration": 0.00565,
     "end_time": "2025-05-04T19:40:48.827182",
     "exception": false,
     "start_time": "2025-05-04T19:40:48.821532",
     "status": "completed"
    },
    "tags": []
   },
   "source": [
    "# Training loop"
   ]
  },
  {
   "cell_type": "code",
   "execution_count": 20,
   "id": "bfb6e609",
   "metadata": {
    "execution": {
     "iopub.execute_input": "2025-05-04T19:40:48.839779Z",
     "iopub.status.busy": "2025-05-04T19:40:48.839226Z",
     "iopub.status.idle": "2025-05-04T19:40:48.845822Z",
     "shell.execute_reply": "2025-05-04T19:40:48.845444Z"
    },
    "papermill": {
     "duration": 0.01371,
     "end_time": "2025-05-04T19:40:48.846575",
     "exception": false,
     "start_time": "2025-05-04T19:40:48.832865",
     "status": "completed"
    },
    "tags": []
   },
   "outputs": [],
   "source": [
    "# Function to train the model for one epoch\n",
    "def train_epoch(model, loader, criterion, optimizer, writer, epoch):\n",
    "    \"\"\"\n",
    "    Train the model for one epoch.\n",
    "\n",
    "    Args:\n",
    "        model: The model to train.\n",
    "        loader: DataLoader for the training data.\n",
    "        criterion: Loss function.\n",
    "        optimizer: Optimizer for updating model weights.\n",
    "        writer: TensorBoard SummaryWriter for logging.\n",
    "        epoch: Current epoch number.\n",
    "\n",
    "    Returns:\n",
    "        epoch_loss: Average loss for the epoch.\n",
    "        epoch_acc: Accuracy for the epoch.\n",
    "    \"\"\"\n",
    "    model.train()  # Set the model to training mode\n",
    "    running_loss = 0.0\n",
    "    correct = 0\n",
    "    total = 0\n",
    "\n",
    "    for inputs, labels in tqdm(loader, desc=f\"Training Epoch {epoch+1}\"):\n",
    "        # Move inputs and labels to the device (GPU/CPU)\n",
    "        inputs, labels = inputs.to(device), labels.to(device)\n",
    "    \n",
    "        # Zero the parameter gradients\n",
    "        optimizer.zero_grad()\n",
    "\n",
    "        # Forward pass\n",
    "        outputs = model(inputs)\n",
    "\n",
    "        # Compute loss\n",
    "        loss = criterion(outputs, labels.float().unsqueeze(1)) # Ensure labels are of shape (batch_size, 1)\n",
    "        \n",
    "        # Backward pass and optimize\n",
    "        loss.backward()\n",
    "        optimizer.step()\n",
    "\n",
    "        # Accumulate loss and accuracy\n",
    "        running_loss += loss.item() * inputs.size(0)\n",
    "        probs = torch.sigmoid(outputs)\n",
    "        preds = (probs >= 0.5).long().squeeze(1)\n",
    "        correct += (preds == labels).sum().item()\n",
    "        total += labels.size(0)\n",
    "        \n",
    "    # Scheduler step if using a scheduler\n",
    "    if scheduler is not None:\n",
    "        scheduler.step()\n",
    "        print(f\"Learning rate: {scheduler.get_last_lr()[0]}\")\n",
    "\n",
    "    # Calculate average loss and accuracy\n",
    "    epoch_loss = running_loss / total\n",
    "    epoch_acc = correct / total\n",
    "\n",
    "    # Log training loss and accuracy to TensorBoard\n",
    "    writer.add_scalar('Training Loss', epoch_loss, epoch)\n",
    "    writer.add_scalar('Training Accuracy', epoch_acc, epoch)\n",
    "\n",
    "    return epoch_loss, epoch_acc\n",
    "\n",
    "# Function to evaluate the model for one epoch\n",
    "def eval_epoch(model, loader, criterion, writer, epoch):\n",
    "    \"\"\"\n",
    "    Evaluate the model for one epoch.\n",
    "\n",
    "    Args:\n",
    "        model: The model to evaluate.\n",
    "        loader: DataLoader for the validation data.\n",
    "        criterion: Loss function.\n",
    "        writer: TensorBoard SummaryWriter for logging.\n",
    "        epoch: Current epoch number.\n",
    "\n",
    "    Returns:\n",
    "        epoch_loss: Average loss for the epoch.\n",
    "        epoch_acc: Accuracy for the epoch.\n",
    "    \"\"\"\n",
    "    model.eval()  # Set the model to evaluation mode\n",
    "    running_loss = 0.0\n",
    "    correct = 0\n",
    "    total = 0\n",
    "\n",
    "    with torch.no_grad():  # Disable gradient computation\n",
    "        for inputs, labels in tqdm(loader, desc=f\"Validation Epoch {epoch+1}\"):\n",
    "            # Move inputs and labels to the device (GPU/CPU)\n",
    "            inputs, labels = inputs.to(device), labels.to(device)\n",
    "\n",
    "            # Forward pass\n",
    "            outputs = model(inputs)\n",
    "\n",
    "            # Compute loss\n",
    "            loss = criterion(outputs, labels.float().unsqueeze(1)) # Ensure labels are of shape (batch_size, 1)\n",
    "\n",
    "            # Accumulate loss and accuracy\n",
    "            running_loss += loss.item() * inputs.size(0)\n",
    "            probs = torch.sigmoid(outputs)\n",
    "            preds = (probs >= 0.5).long().squeeze(1)\n",
    "            correct += (preds == labels).sum().item()\n",
    "            total += labels.size(0)\n",
    "\n",
    "    # Calculate average loss and accuracy\n",
    "    epoch_loss = running_loss / total\n",
    "    epoch_acc = correct / total\n",
    "\n",
    "    # Log validation loss and accuracy to TensorBoard\n",
    "    writer.add_scalar('Validation Loss', epoch_loss, epoch)\n",
    "    writer.add_scalar('Validation Accuracy', epoch_acc, epoch)\n",
    "\n",
    "    return epoch_loss, epoch_acc\n"
   ]
  },
  {
   "cell_type": "markdown",
   "id": "727dcbe0",
   "metadata": {
    "papermill": {
     "duration": 0.006977,
     "end_time": "2025-05-04T19:40:48.860824",
     "exception": false,
     "start_time": "2025-05-04T19:40:48.853847",
     "status": "completed"
    },
    "tags": []
   },
   "source": [
    "# Per-epoch activity"
   ]
  },
  {
   "cell_type": "code",
   "execution_count": 21,
   "id": "b8f19587",
   "metadata": {
    "execution": {
     "iopub.execute_input": "2025-05-04T19:40:48.873866Z",
     "iopub.status.busy": "2025-05-04T19:40:48.873497Z",
     "iopub.status.idle": "2025-05-04T19:40:48.876401Z",
     "shell.execute_reply": "2025-05-04T19:40:48.876026Z"
    },
    "papermill": {
     "duration": 0.010193,
     "end_time": "2025-05-04T19:40:48.877099",
     "exception": false,
     "start_time": "2025-05-04T19:40:48.866906",
     "status": "completed"
    },
    "tags": []
   },
   "outputs": [],
   "source": [
    "# Check if the model already exists\n",
    "if os.path.exists(BEST_MODEL_PATH):\n",
    "    # Ask the user if they want to overwrite the existing model\n",
    "    user_input = input(f\"Model already exists at {BEST_MODEL_PATH}. Do you want to overwrite it? (y/n): \")\n",
    "    if user_input.lower() == 'y':\n",
    "        pass\n",
    "    else:\n",
    "        raise ValueError(f\"Model already exists at {BEST_MODEL_PATH}. Please remove it before training.\")"
   ]
  },
  {
   "cell_type": "code",
   "execution_count": 22,
   "id": "5530d2ec",
   "metadata": {
    "execution": {
     "iopub.execute_input": "2025-05-04T19:40:48.889308Z",
     "iopub.status.busy": "2025-05-04T19:40:48.889009Z",
     "iopub.status.idle": "2025-05-04T19:40:48.893206Z",
     "shell.execute_reply": "2025-05-04T19:40:48.892841Z"
    },
    "papermill": {
     "duration": 0.011031,
     "end_time": "2025-05-04T19:40:48.893853",
     "exception": false,
     "start_time": "2025-05-04T19:40:48.882822",
     "status": "completed"
    },
    "tags": []
   },
   "outputs": [],
   "source": [
    "def per_epoch_activity(num_epochs, training_loader, validation_loader, model, loss_fn, optimizer, writer, patience=5):\n",
    "    \"\"\"\n",
    "    Train and evaluate the model for a specified number of epochs.\n",
    "    \n",
    "    Args:\n",
    "        num_epochs: Number of epochs to train.\n",
    "        training_loader: DataLoader for the training data.\n",
    "        validation_loader: DataLoader for the validation data.\n",
    "        model: The model to train.\n",
    "        loss_fn: Loss function.\n",
    "        optimizer: Optimizer for updating model weights.\n",
    "        writer: TensorBoard SummaryWriter for logging.\n",
    "        patience: Number of epochs to wait for improvement before stopping.\n",
    "    \"\"\"\n",
    "    best_acc = 0.0 # Best validation accuracy\n",
    "    no_improve_epochs = 0  # Counter for epochs without improvement\n",
    "    \n",
    "    for epoch in tqdm(range(num_epochs)):\n",
    "        train_loss, train_acc = train_epoch(model, training_loader, loss_fn, optimizer, writer, epoch)\n",
    "        val_loss, val_acc = eval_epoch(model, validation_loader, loss_fn, writer, epoch)\n",
    "        print(f\"Epoch {epoch+1}/{num_epochs}\", \n",
    "            f\"Train Loss: {train_loss:.4f}, Train Acc: {train_acc:.4f}\", \n",
    "            f\"Val Loss: {val_loss:.4f}, Val Acc: {val_acc:.4f}\")\n",
    "        \n",
    "        # Save best model\n",
    "        if val_acc > best_acc:\n",
    "            best_acc = val_acc\n",
    "            torch.save(model.state_dict(), BEST_MODEL_PATH)\n",
    "            no_improve_epochs = 0  # Reset counter if validation accuracy improves\n",
    "        else:\n",
    "            no_improve_epochs += 1\n",
    "\n",
    "        # Early stopping\n",
    "        if no_improve_epochs >= patience:\n",
    "            print(f\"Early stopping triggered after {epoch+1} epochs.\")\n",
    "            break\n",
    "\n",
    "        # Save the model last epoch\n",
    "        torch.save(model.state_dict(), LAST_MODEL_PATH)"
   ]
  },
  {
   "cell_type": "code",
   "execution_count": 23,
   "id": "8b02f27b",
   "metadata": {
    "execution": {
     "iopub.execute_input": "2025-05-04T19:40:48.906146Z",
     "iopub.status.busy": "2025-05-04T19:40:48.905910Z"
    },
    "papermill": {
     "duration": null,
     "end_time": null,
     "exception": false,
     "start_time": "2025-05-04T19:40:48.899729",
     "status": "running"
    },
    "tags": []
   },
   "outputs": [
    {
     "name": "stderr",
     "output_type": "stream",
     "text": [
      "\r",
      "  0%|          | 0/10 [00:00<?, ?it/s]"
     ]
    },
    {
     "name": "stderr",
     "output_type": "stream",
     "text": [
      "\n"
     ]
    },
    {
     "name": "stderr",
     "output_type": "stream",
     "text": [
      "\r",
      "Training Epoch 1:   0%|          | 0/601 [00:00<?, ?it/s]"
     ]
    },
    {
     "name": "stderr",
     "output_type": "stream",
     "text": [
      "\u001b[A"
     ]
    },
    {
     "name": "stderr",
     "output_type": "stream",
     "text": [
      "\n"
     ]
    },
    {
     "name": "stderr",
     "output_type": "stream",
     "text": [
      "\r",
      "Training Epoch 1:   0%|          | 1/601 [00:35<5:52:29, 35.25s/it]"
     ]
    },
    {
     "name": "stderr",
     "output_type": "stream",
     "text": [
      "\u001b[A"
     ]
    },
    {
     "name": "stderr",
     "output_type": "stream",
     "text": [
      "\n"
     ]
    },
    {
     "name": "stderr",
     "output_type": "stream",
     "text": [
      "\r",
      "Training Epoch 1:   0%|          | 2/601 [00:59<4:49:33, 29.00s/it]"
     ]
    },
    {
     "name": "stderr",
     "output_type": "stream",
     "text": [
      "\u001b[A"
     ]
    },
    {
     "name": "stderr",
     "output_type": "stream",
     "text": [
      "\n"
     ]
    },
    {
     "name": "stderr",
     "output_type": "stream",
     "text": [
      "\r",
      "Training Epoch 1:   0%|          | 3/601 [01:20<4:10:42, 25.15s/it]"
     ]
    },
    {
     "name": "stderr",
     "output_type": "stream",
     "text": [
      "\u001b[A"
     ]
    },
    {
     "name": "stderr",
     "output_type": "stream",
     "text": [
      "\n"
     ]
    },
    {
     "name": "stderr",
     "output_type": "stream",
     "text": [
      "\r",
      "Training Epoch 1:   1%|          | 4/601 [01:45<4:10:18, 25.16s/it]"
     ]
    },
    {
     "name": "stderr",
     "output_type": "stream",
     "text": [
      "\u001b[A"
     ]
    },
    {
     "name": "stderr",
     "output_type": "stream",
     "text": [
      "\n"
     ]
    },
    {
     "name": "stderr",
     "output_type": "stream",
     "text": [
      "\r",
      "Training Epoch 1:   1%|          | 5/601 [02:02<3:41:40, 22.32s/it]"
     ]
    },
    {
     "name": "stderr",
     "output_type": "stream",
     "text": [
      "\u001b[A"
     ]
    },
    {
     "name": "stderr",
     "output_type": "stream",
     "text": [
      "\n"
     ]
    },
    {
     "name": "stderr",
     "output_type": "stream",
     "text": [
      "\r",
      "Training Epoch 1:   1%|          | 6/601 [02:23<3:36:57, 21.88s/it]"
     ]
    },
    {
     "name": "stderr",
     "output_type": "stream",
     "text": [
      "\u001b[A"
     ]
    },
    {
     "name": "stderr",
     "output_type": "stream",
     "text": [
      "\n"
     ]
    },
    {
     "name": "stderr",
     "output_type": "stream",
     "text": [
      "\r",
      "Training Epoch 1:   1%|          | 7/601 [02:47<3:42:27, 22.47s/it]"
     ]
    },
    {
     "name": "stderr",
     "output_type": "stream",
     "text": [
      "\u001b[A"
     ]
    },
    {
     "name": "stderr",
     "output_type": "stream",
     "text": [
      "\n"
     ]
    },
    {
     "name": "stderr",
     "output_type": "stream",
     "text": [
      "\r",
      "Training Epoch 1:   1%|▏         | 8/601 [03:09<3:39:07, 22.17s/it]"
     ]
    },
    {
     "name": "stderr",
     "output_type": "stream",
     "text": [
      "\u001b[A"
     ]
    },
    {
     "name": "stderr",
     "output_type": "stream",
     "text": [
      "\n"
     ]
    },
    {
     "name": "stderr",
     "output_type": "stream",
     "text": [
      "\r",
      "Training Epoch 1:   1%|▏         | 9/601 [03:29<3:34:25, 21.73s/it]"
     ]
    },
    {
     "name": "stderr",
     "output_type": "stream",
     "text": [
      "\u001b[A"
     ]
    },
    {
     "name": "stderr",
     "output_type": "stream",
     "text": [
      "\n"
     ]
    },
    {
     "name": "stderr",
     "output_type": "stream",
     "text": [
      "\r",
      "Training Epoch 1:   2%|▏         | 10/601 [03:52<3:35:33, 21.88s/it]"
     ]
    },
    {
     "name": "stderr",
     "output_type": "stream",
     "text": [
      "\u001b[A"
     ]
    },
    {
     "name": "stderr",
     "output_type": "stream",
     "text": [
      "\n"
     ]
    },
    {
     "name": "stderr",
     "output_type": "stream",
     "text": [
      "\r",
      "Training Epoch 1:   2%|▏         | 11/601 [04:13<3:34:06, 21.77s/it]"
     ]
    },
    {
     "name": "stderr",
     "output_type": "stream",
     "text": [
      "\u001b[A"
     ]
    },
    {
     "name": "stderr",
     "output_type": "stream",
     "text": [
      "\n"
     ]
    },
    {
     "name": "stderr",
     "output_type": "stream",
     "text": [
      "\r",
      "Training Epoch 1:   2%|▏         | 12/601 [04:38<3:42:02, 22.62s/it]"
     ]
    },
    {
     "name": "stderr",
     "output_type": "stream",
     "text": [
      "\u001b[A"
     ]
    },
    {
     "name": "stderr",
     "output_type": "stream",
     "text": [
      "\n"
     ]
    },
    {
     "name": "stderr",
     "output_type": "stream",
     "text": [
      "\r",
      "Training Epoch 1:   2%|▏         | 13/601 [05:04<3:52:03, 23.68s/it]"
     ]
    },
    {
     "name": "stderr",
     "output_type": "stream",
     "text": [
      "\u001b[A"
     ]
    },
    {
     "name": "stderr",
     "output_type": "stream",
     "text": [
      "\n"
     ]
    },
    {
     "name": "stderr",
     "output_type": "stream",
     "text": [
      "\r",
      "Training Epoch 1:   2%|▏         | 14/601 [05:24<3:42:12, 22.71s/it]"
     ]
    },
    {
     "name": "stderr",
     "output_type": "stream",
     "text": [
      "\u001b[A"
     ]
    },
    {
     "name": "stderr",
     "output_type": "stream",
     "text": [
      "\n"
     ]
    },
    {
     "name": "stderr",
     "output_type": "stream",
     "text": [
      "\r",
      "Training Epoch 1:   2%|▏         | 15/601 [05:44<3:33:26, 21.85s/it]"
     ]
    },
    {
     "name": "stderr",
     "output_type": "stream",
     "text": [
      "\u001b[A"
     ]
    },
    {
     "name": "stderr",
     "output_type": "stream",
     "text": [
      "\n"
     ]
    },
    {
     "name": "stderr",
     "output_type": "stream",
     "text": [
      "\r",
      "Training Epoch 1:   3%|▎         | 16/601 [06:04<3:28:32, 21.39s/it]"
     ]
    },
    {
     "name": "stderr",
     "output_type": "stream",
     "text": [
      "\u001b[A"
     ]
    },
    {
     "name": "stderr",
     "output_type": "stream",
     "text": [
      "\n"
     ]
    },
    {
     "name": "stderr",
     "output_type": "stream",
     "text": [
      "\r",
      "Training Epoch 1:   3%|▎         | 17/601 [06:25<3:27:05, 21.28s/it]"
     ]
    },
    {
     "name": "stderr",
     "output_type": "stream",
     "text": [
      "\u001b[A"
     ]
    },
    {
     "name": "stderr",
     "output_type": "stream",
     "text": [
      "\n"
     ]
    },
    {
     "name": "stderr",
     "output_type": "stream",
     "text": [
      "\r",
      "Training Epoch 1:   3%|▎         | 18/601 [06:44<3:19:53, 20.57s/it]"
     ]
    },
    {
     "name": "stderr",
     "output_type": "stream",
     "text": [
      "\u001b[A"
     ]
    },
    {
     "name": "stderr",
     "output_type": "stream",
     "text": [
      "\n"
     ]
    },
    {
     "name": "stderr",
     "output_type": "stream",
     "text": [
      "\r",
      "Training Epoch 1:   3%|▎         | 19/601 [07:09<3:31:37, 21.82s/it]"
     ]
    },
    {
     "name": "stderr",
     "output_type": "stream",
     "text": [
      "\u001b[A"
     ]
    },
    {
     "name": "stderr",
     "output_type": "stream",
     "text": [
      "\n"
     ]
    },
    {
     "name": "stderr",
     "output_type": "stream",
     "text": [
      "\r",
      "Training Epoch 1:   3%|▎         | 20/601 [07:30<3:28:03, 21.49s/it]"
     ]
    },
    {
     "name": "stderr",
     "output_type": "stream",
     "text": [
      "\u001b[A"
     ]
    },
    {
     "name": "stderr",
     "output_type": "stream",
     "text": [
      "\n"
     ]
    },
    {
     "name": "stderr",
     "output_type": "stream",
     "text": [
      "\r",
      "Training Epoch 1:   3%|▎         | 21/601 [07:56<3:41:38, 22.93s/it]"
     ]
    },
    {
     "name": "stderr",
     "output_type": "stream",
     "text": [
      "\u001b[A"
     ]
    },
    {
     "name": "stderr",
     "output_type": "stream",
     "text": [
      "\n"
     ]
    },
    {
     "name": "stderr",
     "output_type": "stream",
     "text": [
      "\r",
      "Training Epoch 1:   4%|▎         | 22/601 [08:19<3:41:22, 22.94s/it]"
     ]
    },
    {
     "name": "stderr",
     "output_type": "stream",
     "text": [
      "\u001b[A"
     ]
    },
    {
     "name": "stderr",
     "output_type": "stream",
     "text": [
      "\n"
     ]
    },
    {
     "name": "stderr",
     "output_type": "stream",
     "text": [
      "\r",
      "Training Epoch 1:   4%|▍         | 23/601 [08:51<4:08:09, 25.76s/it]"
     ]
    },
    {
     "name": "stderr",
     "output_type": "stream",
     "text": [
      "\u001b[A"
     ]
    },
    {
     "name": "stderr",
     "output_type": "stream",
     "text": [
      "\n"
     ]
    },
    {
     "name": "stderr",
     "output_type": "stream",
     "text": [
      "\r",
      "Training Epoch 1:   4%|▍         | 24/601 [09:16<4:04:18, 25.40s/it]"
     ]
    },
    {
     "name": "stderr",
     "output_type": "stream",
     "text": [
      "\u001b[A"
     ]
    },
    {
     "name": "stderr",
     "output_type": "stream",
     "text": [
      "\n"
     ]
    },
    {
     "name": "stderr",
     "output_type": "stream",
     "text": [
      "\r",
      "Training Epoch 1:   4%|▍         | 25/601 [09:41<4:03:03, 25.32s/it]"
     ]
    },
    {
     "name": "stderr",
     "output_type": "stream",
     "text": [
      "\u001b[A"
     ]
    },
    {
     "name": "stderr",
     "output_type": "stream",
     "text": [
      "\n"
     ]
    },
    {
     "name": "stderr",
     "output_type": "stream",
     "text": [
      "\r",
      "Training Epoch 1:   4%|▍         | 26/601 [10:01<3:47:12, 23.71s/it]"
     ]
    },
    {
     "name": "stderr",
     "output_type": "stream",
     "text": [
      "\u001b[A"
     ]
    },
    {
     "name": "stderr",
     "output_type": "stream",
     "text": [
      "\n"
     ]
    },
    {
     "name": "stderr",
     "output_type": "stream",
     "text": [
      "\r",
      "Training Epoch 1:   4%|▍         | 27/601 [10:27<3:54:29, 24.51s/it]"
     ]
    },
    {
     "name": "stderr",
     "output_type": "stream",
     "text": [
      "\u001b[A"
     ]
    },
    {
     "name": "stderr",
     "output_type": "stream",
     "text": [
      "\n"
     ]
    },
    {
     "name": "stderr",
     "output_type": "stream",
     "text": [
      "\r",
      "Training Epoch 1:   5%|▍         | 28/601 [10:55<4:02:03, 25.35s/it]"
     ]
    },
    {
     "name": "stderr",
     "output_type": "stream",
     "text": [
      "\u001b[A"
     ]
    },
    {
     "name": "stderr",
     "output_type": "stream",
     "text": [
      "\n"
     ]
    },
    {
     "name": "stderr",
     "output_type": "stream",
     "text": [
      "\r",
      "Training Epoch 1:   5%|▍         | 29/601 [11:16<3:51:02, 24.24s/it]"
     ]
    },
    {
     "name": "stderr",
     "output_type": "stream",
     "text": [
      "\u001b[A"
     ]
    },
    {
     "name": "stderr",
     "output_type": "stream",
     "text": [
      "\n"
     ]
    },
    {
     "name": "stderr",
     "output_type": "stream",
     "text": [
      "\r",
      "Training Epoch 1:   5%|▍         | 30/601 [11:41<3:50:31, 24.22s/it]"
     ]
    },
    {
     "name": "stderr",
     "output_type": "stream",
     "text": [
      "\u001b[A"
     ]
    },
    {
     "name": "stderr",
     "output_type": "stream",
     "text": [
      "\n"
     ]
    },
    {
     "name": "stderr",
     "output_type": "stream",
     "text": [
      "\r",
      "Training Epoch 1:   5%|▌         | 31/601 [12:07<3:57:26, 24.99s/it]"
     ]
    },
    {
     "name": "stderr",
     "output_type": "stream",
     "text": [
      "\u001b[A"
     ]
    },
    {
     "name": "stderr",
     "output_type": "stream",
     "text": [
      "\n"
     ]
    },
    {
     "name": "stderr",
     "output_type": "stream",
     "text": [
      "\r",
      "Training Epoch 1:   5%|▌         | 32/601 [12:30<3:50:02, 24.26s/it]"
     ]
    },
    {
     "name": "stderr",
     "output_type": "stream",
     "text": [
      "\u001b[A"
     ]
    },
    {
     "name": "stderr",
     "output_type": "stream",
     "text": [
      "\n"
     ]
    },
    {
     "name": "stderr",
     "output_type": "stream",
     "text": [
      "\r",
      "Training Epoch 1:   5%|▌         | 33/601 [12:54<3:49:24, 24.23s/it]"
     ]
    },
    {
     "name": "stderr",
     "output_type": "stream",
     "text": [
      "\u001b[A"
     ]
    },
    {
     "name": "stderr",
     "output_type": "stream",
     "text": [
      "\n"
     ]
    },
    {
     "name": "stderr",
     "output_type": "stream",
     "text": [
      "\r",
      "Training Epoch 1:   6%|▌         | 34/601 [13:17<3:45:10, 23.83s/it]"
     ]
    },
    {
     "name": "stderr",
     "output_type": "stream",
     "text": [
      "\u001b[A"
     ]
    },
    {
     "name": "stderr",
     "output_type": "stream",
     "text": [
      "\n"
     ]
    },
    {
     "name": "stderr",
     "output_type": "stream",
     "text": [
      "\r",
      "Training Epoch 1:   6%|▌         | 35/601 [13:46<4:00:16, 25.47s/it]"
     ]
    },
    {
     "name": "stderr",
     "output_type": "stream",
     "text": [
      "\u001b[A"
     ]
    },
    {
     "name": "stderr",
     "output_type": "stream",
     "text": [
      "\n"
     ]
    },
    {
     "name": "stderr",
     "output_type": "stream",
     "text": [
      "\r",
      "Training Epoch 1:   6%|▌         | 36/601 [14:11<3:57:47, 25.25s/it]"
     ]
    },
    {
     "name": "stderr",
     "output_type": "stream",
     "text": [
      "\u001b[A"
     ]
    },
    {
     "name": "stderr",
     "output_type": "stream",
     "text": [
      "\n"
     ]
    },
    {
     "name": "stderr",
     "output_type": "stream",
     "text": [
      "\r",
      "Training Epoch 1:   6%|▌         | 37/601 [14:34<3:52:01, 24.68s/it]"
     ]
    },
    {
     "name": "stderr",
     "output_type": "stream",
     "text": [
      "\u001b[A"
     ]
    },
    {
     "name": "stderr",
     "output_type": "stream",
     "text": [
      "\n"
     ]
    },
    {
     "name": "stderr",
     "output_type": "stream",
     "text": [
      "\r",
      "Training Epoch 1:   6%|▋         | 38/601 [15:01<3:57:13, 25.28s/it]"
     ]
    },
    {
     "name": "stderr",
     "output_type": "stream",
     "text": [
      "\u001b[A"
     ]
    },
    {
     "name": "stderr",
     "output_type": "stream",
     "text": [
      "\n"
     ]
    },
    {
     "name": "stderr",
     "output_type": "stream",
     "text": [
      "\r",
      "Training Epoch 1:   6%|▋         | 39/601 [15:26<3:56:25, 25.24s/it]"
     ]
    },
    {
     "name": "stderr",
     "output_type": "stream",
     "text": [
      "\u001b[A"
     ]
    },
    {
     "name": "stderr",
     "output_type": "stream",
     "text": [
      "\n"
     ]
    },
    {
     "name": "stderr",
     "output_type": "stream",
     "text": [
      "\r",
      "Training Epoch 1:   7%|▋         | 40/601 [15:48<3:46:51, 24.26s/it]"
     ]
    },
    {
     "name": "stderr",
     "output_type": "stream",
     "text": [
      "\u001b[A"
     ]
    },
    {
     "name": "stderr",
     "output_type": "stream",
     "text": [
      "\n"
     ]
    },
    {
     "name": "stderr",
     "output_type": "stream",
     "text": [
      "\r",
      "Training Epoch 1:   7%|▋         | 41/601 [16:13<3:47:04, 24.33s/it]"
     ]
    },
    {
     "name": "stderr",
     "output_type": "stream",
     "text": [
      "\u001b[A"
     ]
    },
    {
     "name": "stderr",
     "output_type": "stream",
     "text": [
      "\n"
     ]
    },
    {
     "name": "stderr",
     "output_type": "stream",
     "text": [
      "\r",
      "Training Epoch 1:   7%|▋         | 42/601 [16:38<3:49:50, 24.67s/it]"
     ]
    },
    {
     "name": "stderr",
     "output_type": "stream",
     "text": [
      "\u001b[A"
     ]
    },
    {
     "name": "stderr",
     "output_type": "stream",
     "text": [
      "\n"
     ]
    },
    {
     "name": "stderr",
     "output_type": "stream",
     "text": [
      "\r",
      "Training Epoch 1:   7%|▋         | 43/601 [16:57<3:34:03, 23.02s/it]"
     ]
    },
    {
     "name": "stderr",
     "output_type": "stream",
     "text": [
      "\u001b[A"
     ]
    },
    {
     "name": "stderr",
     "output_type": "stream",
     "text": [
      "\n"
     ]
    },
    {
     "name": "stderr",
     "output_type": "stream",
     "text": [
      "\r",
      "Training Epoch 1:   7%|▋         | 44/601 [17:18<3:26:03, 22.20s/it]"
     ]
    },
    {
     "name": "stderr",
     "output_type": "stream",
     "text": [
      "\u001b[A"
     ]
    },
    {
     "name": "stderr",
     "output_type": "stream",
     "text": [
      "\n"
     ]
    },
    {
     "name": "stderr",
     "output_type": "stream",
     "text": [
      "\r",
      "Training Epoch 1:   7%|▋         | 45/601 [17:43<3:33:20, 23.02s/it]"
     ]
    },
    {
     "name": "stderr",
     "output_type": "stream",
     "text": [
      "\u001b[A"
     ]
    },
    {
     "name": "stderr",
     "output_type": "stream",
     "text": [
      "\n"
     ]
    },
    {
     "name": "stderr",
     "output_type": "stream",
     "text": [
      "\r",
      "Training Epoch 1:   8%|▊         | 46/601 [18:11<3:46:40, 24.51s/it]"
     ]
    },
    {
     "name": "stderr",
     "output_type": "stream",
     "text": [
      "\u001b[A"
     ]
    },
    {
     "name": "stderr",
     "output_type": "stream",
     "text": [
      "\n"
     ]
    },
    {
     "name": "stderr",
     "output_type": "stream",
     "text": [
      "\r",
      "Training Epoch 1:   8%|▊         | 47/601 [18:39<3:57:17, 25.70s/it]"
     ]
    },
    {
     "name": "stderr",
     "output_type": "stream",
     "text": [
      "\u001b[A"
     ]
    },
    {
     "name": "stderr",
     "output_type": "stream",
     "text": [
      "\n"
     ]
    },
    {
     "name": "stderr",
     "output_type": "stream",
     "text": [
      "\r",
      "Training Epoch 1:   8%|▊         | 48/601 [19:09<4:08:08, 26.92s/it]"
     ]
    },
    {
     "name": "stderr",
     "output_type": "stream",
     "text": [
      "\u001b[A"
     ]
    },
    {
     "name": "stderr",
     "output_type": "stream",
     "text": [
      "\n"
     ]
    },
    {
     "name": "stderr",
     "output_type": "stream",
     "text": [
      "\r",
      "Training Epoch 1:   8%|▊         | 49/601 [19:36<4:07:54, 26.95s/it]"
     ]
    },
    {
     "name": "stderr",
     "output_type": "stream",
     "text": [
      "\u001b[A"
     ]
    },
    {
     "name": "stderr",
     "output_type": "stream",
     "text": [
      "\n"
     ]
    },
    {
     "name": "stderr",
     "output_type": "stream",
     "text": [
      "\r",
      "Training Epoch 1:   8%|▊         | 50/601 [19:59<3:57:09, 25.83s/it]"
     ]
    },
    {
     "name": "stderr",
     "output_type": "stream",
     "text": [
      "\u001b[A"
     ]
    },
    {
     "name": "stderr",
     "output_type": "stream",
     "text": [
      "\n"
     ]
    },
    {
     "name": "stderr",
     "output_type": "stream",
     "text": [
      "\r",
      "Training Epoch 1:   8%|▊         | 51/601 [20:24<3:54:42, 25.60s/it]"
     ]
    },
    {
     "name": "stderr",
     "output_type": "stream",
     "text": [
      "\u001b[A"
     ]
    },
    {
     "name": "stderr",
     "output_type": "stream",
     "text": [
      "\n"
     ]
    },
    {
     "name": "stderr",
     "output_type": "stream",
     "text": [
      "\r",
      "Training Epoch 1:   9%|▊         | 52/601 [20:46<3:43:16, 24.40s/it]"
     ]
    },
    {
     "name": "stderr",
     "output_type": "stream",
     "text": [
      "\u001b[A"
     ]
    },
    {
     "name": "stderr",
     "output_type": "stream",
     "text": [
      "\n"
     ]
    }
   ],
   "source": [
    "\n",
    "# Initializing in a separate cell so we can easily add more epochs to the same run\n",
    "timestamp = datetime.now().strftime('%Y%m%d_%H%M%S')\n",
    "writer = SummaryWriter(MODEL_PATH+'/runs/deepfake_logs_{}'.format(timestamp))\n",
    "\n",
    "if CROSS_VAL:\n",
    "    # K-Fold Cross Validation\n",
    "    splits = NUM_SPLITS\n",
    "    kfold = KFold(n_splits=splits, shuffle=True)\n",
    "    dataset = ConcatDataset([training_set, validation_set])\n",
    "\n",
    "    for fold, (train_ids, test_ids) in tqdm(enumerate(kfold.split(dataset))):\n",
    "\n",
    "        print(f'Fold {fold+1}/{splits}')\n",
    "        training_loader = torch.utils.data.DataLoader(training_set, batch_size=BATCH_SIZE_TRAIN, shuffle=True)\n",
    "        validation_loader = torch.utils.data.DataLoader(validation_set, batch_size=BATCH_SIZE_VAL, shuffle=False)\n",
    "            \n",
    "        per_epoch_activity(NUM_EPOCHS, training_loader, validation_loader, model, loss_fn, optimizer, writer, patience=PATIENCE)\n",
    "else:\n",
    "    # No K-Fold Cross Validation\n",
    "    per_epoch_activity(NUM_EPOCHS, training_loader, validation_loader, model, loss_fn, optimizer, writer, patience=PATIENCE)\n",
    "    \n",
    "# Close the TensorBoard writer\n",
    "writer.close()"
   ]
  },
  {
   "cell_type": "markdown",
   "id": "0a6cc471",
   "metadata": {
    "papermill": {
     "duration": null,
     "end_time": null,
     "exception": null,
     "start_time": null,
     "status": "pending"
    },
    "tags": []
   },
   "source": [
    "# Open saved model"
   ]
  },
  {
   "cell_type": "code",
   "execution_count": null,
   "id": "eace53ce",
   "metadata": {
    "papermill": {
     "duration": null,
     "end_time": null,
     "exception": null,
     "start_time": null,
     "status": "pending"
    },
    "tags": []
   },
   "outputs": [],
   "source": [
    "saved_model = model_module.Model()\n",
    "saved_model.load_state_dict(torch.load(BEST_MODEL_PATH))"
   ]
  },
  {
   "cell_type": "markdown",
   "id": "511070f1",
   "metadata": {
    "papermill": {
     "duration": null,
     "end_time": null,
     "exception": null,
     "start_time": null,
     "status": "pending"
    },
    "tags": []
   },
   "source": [
    "# Inference"
   ]
  },
  {
   "cell_type": "code",
   "execution_count": null,
   "id": "4e6a431d",
   "metadata": {
    "papermill": {
     "duration": null,
     "end_time": null,
     "exception": null,
     "start_time": null,
     "status": "pending"
    },
    "tags": []
   },
   "outputs": [],
   "source": [
    "# Example inference on a single video\n",
    "model.load_state_dict(torch.load(BEST_MODEL_PATH))\n",
    "model.eval()\n",
    "\n",
    "video_path = 'data/val_sub/avoqheikrk.mp4'\n",
    "frames = extract_frames(video_path, num_frames=16)\n",
    "inputs = data_transforms(frames[0]).unsqueeze(0)  # For demonstration, use first frame\n",
    "inputs = inputs.to(device)\n",
    "with torch.no_grad():\n",
    "    output = model(inputs.unsqueeze(1))  # shape (1, num_frames, C, H, W)\n",
    "    pred = output.argmax(dim=1).item()\n",
    "print(\"Predicted label: \", 'Fake' if pred == 1 else 'Real')\n",
    "print(\"Real label: \", 'Fake' if metadata_df[metadata_df['filename'] == 'acagallncj.mp4']['label'].values[0]== 1 else 'Real')"
   ]
  },
  {
   "cell_type": "markdown",
   "id": "887b8ad5",
   "metadata": {
    "papermill": {
     "duration": null,
     "end_time": null,
     "exception": null,
     "start_time": null,
     "status": "pending"
    },
    "tags": []
   },
   "source": [
    "# Test"
   ]
  },
  {
   "cell_type": "code",
   "execution_count": null,
   "id": "5574dd22",
   "metadata": {
    "papermill": {
     "duration": null,
     "end_time": null,
     "exception": null,
     "start_time": null,
     "status": "pending"
    },
    "tags": []
   },
   "outputs": [],
   "source": [
    "# Run test loop on validation set\n",
    "model.eval()\n",
    "all_labels, all_preds = [], []\n",
    "\n",
    "with torch.no_grad():\n",
    "    for inputs, labels in tqdm(test_loader, desc=\"Testing\"):\n",
    "        inputs, labels = inputs.to(device), labels.to(device)\n",
    "        outputs = model(inputs)\n",
    "        preds = outputs.argmax(dim=1)\n",
    "        all_labels.extend(labels.cpu().numpy())\n",
    "        all_preds.extend(preds.cpu().numpy())\n",
    "\n",
    "# Compute metrics\n",
    "acc  = accuracy_score(all_labels, all_preds)\n",
    "prec = precision_score(all_labels, all_preds, average='binary')\n",
    "rec  = recall_score(all_labels, all_preds, average='binary')\n",
    "f1   = f1_score(all_labels, all_preds, average='binary')\n",
    "\n",
    "class_report = classification_report(all_labels, all_preds, labels=classes, target_names=classes)"
   ]
  },
  {
   "cell_type": "code",
   "execution_count": null,
   "id": "6b5f9d9d",
   "metadata": {
    "papermill": {
     "duration": null,
     "end_time": null,
     "exception": null,
     "start_time": null,
     "status": "pending"
    },
    "tags": []
   },
   "outputs": [],
   "source": [
    "print(f\"Test Accuracy : {acc:.4f}\")\n",
    "print(f\"Precision     : {prec:.4f}\")\n",
    "print(f\"Recall        : {rec:.4f}\")\n",
    "print(f\"F1 Score      : {f1:.4f}\\n\")\n",
    "print(\"Classification Report:\\n\", class_report)\n"
   ]
  },
  {
   "cell_type": "code",
   "execution_count": null,
   "id": "c1344d66",
   "metadata": {
    "papermill": {
     "duration": null,
     "end_time": null,
     "exception": null,
     "start_time": null,
     "status": "pending"
    },
    "tags": []
   },
   "outputs": [],
   "source": [
    "# Save results to CSV\n",
    "results_df = pd.DataFrame({\n",
    "    'filename': test_set.get_filenames(),\n",
    "    'label': all_labels,\n",
    "    'predicted_label': all_preds\n",
    "})\n",
    "results_df['correct'] = results_df['label'] == results_df['predicted_label']\n",
    "results_df.to_csv(MODEL_PATH_METRICS+'results.csv', index=False)"
   ]
  },
  {
   "cell_type": "code",
   "execution_count": null,
   "id": "e22240b5",
   "metadata": {
    "papermill": {
     "duration": null,
     "end_time": null,
     "exception": null,
     "start_time": null,
     "status": "pending"
    },
    "tags": []
   },
   "outputs": [],
   "source": [
    "# Save Acc, Precision, Recall, F1 to CSV\n",
    "metrics_df = pd.DataFrame({\n",
    "    'accuracy': [acc],\n",
    "    'precision': [prec],\n",
    "    'recall': [rec],\n",
    "    'f1_score': [f1]\n",
    "})\n",
    "metrics_df.to_csv(MODEL_PATH_METRICS+'metrics.csv', index=False)\n",
    "\n",
    "# Save classification report to txt file\n",
    "with open(MODEL_PATH_METRICS+'classification_report.txt', 'w') as f:\n",
    "    f.write(class_report)\n"
   ]
  },
  {
   "cell_type": "code",
   "execution_count": null,
   "id": "5064fc18",
   "metadata": {
    "papermill": {
     "duration": null,
     "end_time": null,
     "exception": null,
     "start_time": null,
     "status": "pending"
    },
    "tags": []
   },
   "outputs": [],
   "source": [
    "# Plot confusion matrix\n",
    "cm = confusion_matrix(all_labels, all_preds)\n",
    "plt.figure(figsize=(6,5))\n",
    "sns.heatmap(cm, annot=True, fmt='d', cmap='Blues',\n",
    "            xticklabels=classes, yticklabels=classes)\n",
    "plt.xlabel('Predicted Label')\n",
    "plt.ylabel('True Label')\n",
    "plt.title('Confusion Matrix')\n",
    "\n",
    "plt.savefig(MODEL_PATH_METRICS+'confusion_matrix.png')\n",
    "plt.show()"
   ]
  }
 ],
 "metadata": {
  "kernelspec": {
   "display_name": "Python 3",
   "language": "python",
   "name": "python3"
  },
  "language_info": {
   "codemirror_mode": {
    "name": "ipython",
    "version": 3
   },
   "file_extension": ".py",
   "mimetype": "text/x-python",
   "name": "python",
   "nbconvert_exporter": "python",
   "pygments_lexer": "ipython3",
   "version": "3.13.2"
  },
  "papermill": {
   "default_parameters": {},
   "duration": null,
   "end_time": null,
   "environment_variables": {},
   "exception": null,
   "input_path": "notebook.ipynb",
   "output_path": "./models/Xception3d/output_notebook.ipynb",
   "parameters": {},
   "start_time": "2025-05-04T19:40:11.735163",
   "version": "2.6.0"
  }
 },
 "nbformat": 4,
 "nbformat_minor": 5
}